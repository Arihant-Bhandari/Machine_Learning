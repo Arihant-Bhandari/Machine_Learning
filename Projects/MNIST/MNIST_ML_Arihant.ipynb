{
 "cells": [
  {
   "cell_type": "code",
   "execution_count": 2,
   "metadata": {},
   "outputs": [
    {
     "name": "stdout",
     "output_type": "stream",
     "text": [
      "\n",
      "Classification Report:\n",
      "              precision    recall  f1-score   support\n",
      "\n",
      "           0       0.97      0.99      0.98       980\n",
      "           1       0.99      0.99      0.99      1135\n",
      "           2       0.96      0.97      0.96      1032\n",
      "           3       0.95      0.96      0.96      1010\n",
      "           4       0.98      0.98      0.98       982\n",
      "           5       0.98      0.96      0.97       892\n",
      "           6       0.98      0.98      0.98       958\n",
      "           7       0.97      0.96      0.97      1028\n",
      "           8       0.95      0.95      0.95       974\n",
      "           9       0.96      0.95      0.96      1009\n",
      "\n",
      "    accuracy                           0.97     10000\n",
      "   macro avg       0.97      0.97      0.97     10000\n",
      "weighted avg       0.97      0.97      0.97     10000\n",
      "\n",
      "Confusion Matrix:\n",
      "[[ 969    0    0    0    0    1    4    1    4    1]\n",
      " [   0 1122    3    3    0    2    3    0    2    0]\n",
      " [   5    0 1001    6    2    0    3    9    6    0]\n",
      " [   1    0   13  966    0    9    0    9    9    3]\n",
      " [   0    0    1    0  958    0    4    0    4   15]\n",
      " [   3    0    1   13    3  859    3    2    5    3]\n",
      " [   6    3    2    0    3    3  936    0    5    0]\n",
      " [   1    3   18    2    2    0    0  991    2    9]\n",
      " [   8    0    4   10    3    4    5    3  928    9]\n",
      " [   6    6    2   13   11    0    1    4    7  959]]\n"
     ]
    }
   ],
   "source": [
    "import numpy as np\n",
    "from sklearn.ensemble import RandomForestClassifier\n",
    "from sklearn.metrics import classification_report, confusion_matrix\n",
    "from keras.datasets import mnist\n",
    "\n",
    "(x_train, y_train), (x_test, y_test) = mnist.load_data()\n",
    "\n",
    "# Flatten the images\n",
    "x_train = x_train.reshape((-1, 28*28)) / 255.0\n",
    "x_test = x_test.reshape((-1, 28*28)) / 255.0\n",
    "\n",
    "# Create and train the model\n",
    "model = RandomForestClassifier(n_estimators=100)\n",
    "model.fit(x_train, y_train)\n",
    "\n",
    "# Predict\n",
    "y_pred_classes = model.predict(x_test)\n",
    "\n",
    "# Evaluation\n",
    "print(\"\\nClassification Report:\")\n",
    "print(classification_report(y_test, y_pred_classes))\n",
    "\n",
    "conf_mat = confusion_matrix(y_test, y_pred_classes)\n",
    "print(\"Confusion Matrix:\")\n",
    "print(conf_mat)\n"
   ]
  }
 ],
 "metadata": {
  "kernelspec": {
   "display_name": "Python 3",
   "language": "python",
   "name": "python3"
  },
  "language_info": {
   "codemirror_mode": {
    "name": "ipython",
    "version": 3
   },
   "file_extension": ".py",
   "mimetype": "text/x-python",
   "name": "python",
   "nbconvert_exporter": "python",
   "pygments_lexer": "ipython3",
   "version": "3.11.0"
  }
 },
 "nbformat": 4,
 "nbformat_minor": 2
}
