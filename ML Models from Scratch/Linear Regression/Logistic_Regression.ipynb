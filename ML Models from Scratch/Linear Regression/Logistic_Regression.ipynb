{
 "cells": [
  {
   "cell_type": "code",
   "execution_count": 1,
   "metadata": {},
   "outputs": [],
   "source": [
    "# importing libraries\n",
    "import pandas as pd\n",
    "import numpy as np\n",
    "import math\n",
    "import warnings\n",
    "\n",
    "warnings.filterwarnings('ignore')\n",
    "\n",
    "# reading data\n",
    "df = pd.read_csv('log_reg.csv')\n",
    "\n",
    "# creating dataset for model: this is usually followed by train test split based on amount of data present as well as how much is to be used in tasks\n",
    "x = df.drop(columns=df.columns[-1], axis=1).to_numpy()\n",
    "y = df[df.columns[-1]].to_numpy()"
   ]
  },
  {
   "cell_type": "code",
   "execution_count": 2,
   "metadata": {},
   "outputs": [
    {
     "name": "stdout",
     "output_type": "stream",
     "text": [
      "Coefficients (beta): [-0.64146779 -0.33899442 -0.19695967 -0.04080358  0.01430681 -0.06040396\n",
      " -0.13069747  0.6445872   0.14877437  0.12428981]\n"
     ]
    }
   ],
   "source": [
    "# adding extra column filled with 1s for intercept, else this will only calculate coeffs of predictors\n",
    "intercept = np.ones((x.shape[0], 1))\n",
    "x = np.hstack((intercept, x))\n",
    "\n",
    "# mathematical background of the model\n",
    "xTx_inv = np.linalg.inv(np.dot(x.T, x))\n",
    "xTy = np.dot(x.T, y)\n",
    "beta = np.dot(xTx_inv, xTy)\n",
    "\n",
    "# printing the coeffs found\n",
    "print(\"Coefficients (beta):\", beta)"
   ]
  },
  {
   "cell_type": "code",
   "execution_count": 3,
   "metadata": {},
   "outputs": [
    {
     "name": "stdout",
     "output_type": "stream",
     "text": [
      "Predicting on: [5.0, 4.0, 7.0, 2.0, 8.0, 9.0, 3.0, 1.0, 6.0] \tValue predicted: 1\n"
     ]
    }
   ],
   "source": [
    "# user based inputs stored as a list\n",
    "labels = list(map(float,input(\"Enter Values to predict on: \").split()))\n",
    "\n",
    "# turning these into individual entries in a column\n",
    "predictors = np.array(labels).reshape(-1,1)\n",
    "\n",
    "# predicting on above inputs\n",
    "prediction = np.dot(beta[1:],predictors) + beta[0]\n",
    "\n",
    "# sigmoid function turning prediction into a probability score\n",
    "prob_score = 1/(1 + math.exp(-prediction))\n",
    "\n",
    "# turning prediction into a class\n",
    "prediction = 0 if (prob_score > 0.5) else 1\n",
    "\n",
    "# displaying results\n",
    "print(\"Predicting on:\",labels,\"\\tValue predicted:\",prediction)"
   ]
  }
 ],
 "metadata": {
  "kernelspec": {
   "display_name": "Python 3",
   "language": "python",
   "name": "python3"
  },
  "language_info": {
   "codemirror_mode": {
    "name": "ipython",
    "version": 3
   },
   "file_extension": ".py",
   "mimetype": "text/x-python",
   "name": "python",
   "nbconvert_exporter": "python",
   "pygments_lexer": "ipython3",
   "version": "3.11.0"
  }
 },
 "nbformat": 4,
 "nbformat_minor": 2
}
